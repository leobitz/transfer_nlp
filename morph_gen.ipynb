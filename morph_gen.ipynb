{
 "cells": [
  {
   "cell_type": "code",
   "execution_count": 1,
   "metadata": {},
   "outputs": [
    {
     "name": "stderr",
     "output_type": "stream",
     "text": [
      "Using TensorFlow backend.\n"
     ]
    }
   ],
   "source": [
    "# from data_gen import *\n",
    "from models import *\n",
    "from heb_proc import *"
   ]
  },
  {
   "cell_type": "code",
   "execution_count": 2,
   "metadata": {},
   "outputs": [
    {
     "name": "stdout",
     "output_type": "stream",
     "text": [
      "15 15 44\n",
      "Root shape:  (7326, 15, 31)\n",
      "Decoder input shape:  (7326, 17, 31)\n",
      "Feature shape:  (7326, 44)\n",
      "Output shape:  (7326, 17, 31)\n"
     ]
    }
   ],
   "source": [
    "\n",
    "featMap, root2feat, root2word = read(file='data/heb/hebrew-task1-train')\n",
    "char2int, int2char, max_root, max_word, feat_length = stat(root2feat, root2word, featMap)\n",
    "print(max_word, max_root, feat_length)\n",
    "roots_mat, decoder_words_mat, feats_vec, out_words_mat = get_data(root2word, root2feat, char2int, max_root, max_word, feat_length)\n",
    "batch_size = 100\n",
    "n_input_length = roots_mat.shape[1]\n",
    "n_output_shape = out_words_mat.shape[1]\n",
    "n_feature = feat_length\n",
    "n_batches = len(root2feat) // batch_size\n",
    "print(\"Root shape: \", roots_mat.shape)\n",
    "print(\"Decoder input shape: \", decoder_words_mat.shape)\n",
    "print(\"Feature shape: \", feats_vec.shape)\n",
    "print(\"Output shape: \", out_words_mat.shape)\n"
   ]
  },
  {
   "cell_type": "code",
   "execution_count": 3,
   "metadata": {},
   "outputs": [],
   "source": [
    "gen = gen_data(roots_mat, decoder_words_mat, feats_vec, out_words_mat)\n",
    "# (roots, decode, feat), words = next(gen)"
   ]
  },
  {
   "cell_type": "code",
   "execution_count": 4,
   "metadata": {},
   "outputs": [],
   "source": [
    "# words.shape"
   ]
  },
  {
   "cell_type": "code",
   "execution_count": 5,
   "metadata": {},
   "outputs": [],
   "source": [
    "# gen = gen_data(roots_mat, words_mat, feats_vec, batch_size=batch_size)"
   ]
  },
  {
   "cell_type": "code",
   "execution_count": 6,
   "metadata": {},
   "outputs": [],
   "source": [
    "root_h, root_w = roots_mat.shape[1], roots_mat.shape[2]\n",
    "decoder_input = decoder_words_mat.shape[2]\n",
    "decoder_output = out_words_mat.shape[1]\n",
    "feat_length = feats_vec.shape[1]\n",
    "model, encoder, decoder = conv_model(root_h, root_w, decoder_input, decoder_output, feat_length, 512, feat_units=20)\n",
    "model.compile(optimizer='adam', loss='categorical_crossentropy')\n"
   ]
  },
  {
   "cell_type": "code",
   "execution_count": 7,
   "metadata": {},
   "outputs": [],
   "source": [
    "# model.summary()"
   ]
  },
  {
   "cell_type": "code",
   "execution_count": 8,
   "metadata": {},
   "outputs": [
    {
     "name": "stdout",
     "output_type": "stream",
     "text": [
      "Epoch 1/45\n",
      "73/73 [==============================] - 13s 175ms/step - loss: 1.4807\n",
      "Epoch 2/45\n",
      "73/73 [==============================] - 8s 109ms/step - loss: 1.0656\n",
      "Epoch 3/45\n",
      "73/73 [==============================] - 8s 108ms/step - loss: 0.9111\n",
      "Epoch 4/45\n",
      "73/73 [==============================] - 8s 108ms/step - loss: 0.7548\n",
      "Epoch 5/45\n",
      "73/73 [==============================] - 8s 108ms/step - loss: 0.5913\n",
      "Epoch 6/45\n",
      "73/73 [==============================] - 8s 108ms/step - loss: 0.4381\n",
      "Epoch 7/45\n",
      "73/73 [==============================] - 8s 108ms/step - loss: 0.3222\n",
      "Epoch 8/45\n",
      "73/73 [==============================] - 8s 108ms/step - loss: 0.2477\n",
      "Epoch 9/45\n",
      "73/73 [==============================] - 8s 108ms/step - loss: 0.1919\n",
      "Epoch 10/45\n",
      "73/73 [==============================] - 8s 108ms/step - loss: 0.1494\n",
      "Epoch 11/45\n",
      "73/73 [==============================] - 8s 108ms/step - loss: 0.1227\n",
      "Epoch 12/45\n",
      "73/73 [==============================] - 8s 108ms/step - loss: 0.1039\n",
      "Epoch 13/45\n",
      "73/73 [==============================] - 8s 108ms/step - loss: 0.0904\n",
      "Epoch 14/45\n",
      "73/73 [==============================] - 8s 108ms/step - loss: 0.0743\n",
      "Epoch 15/45\n",
      "73/73 [==============================] - 8s 108ms/step - loss: 0.0626\n",
      "Epoch 16/45\n",
      "73/73 [==============================] - 8s 109ms/step - loss: 0.0536\n",
      "Epoch 17/45\n",
      "73/73 [==============================] - 8s 109ms/step - loss: 0.0474\n",
      "Epoch 18/45\n",
      "73/73 [==============================] - 8s 108ms/step - loss: 0.0422\n",
      "Epoch 19/45\n",
      "73/73 [==============================] - 8s 108ms/step - loss: 0.0345\n",
      "Epoch 20/45\n",
      "73/73 [==============================] - 8s 108ms/step - loss: 0.0298\n",
      "Epoch 21/45\n",
      "73/73 [==============================] - 8s 108ms/step - loss: 0.0263\n",
      "Epoch 22/45\n",
      "73/73 [==============================] - 8s 109ms/step - loss: 0.0223\n",
      "Epoch 23/45\n",
      "73/73 [==============================] - 8s 108ms/step - loss: 0.0251\n",
      "Epoch 24/45\n",
      "73/73 [==============================] - 8s 108ms/step - loss: 0.0193\n",
      "Epoch 25/45\n",
      "73/73 [==============================] - 8s 108ms/step - loss: 0.0149\n",
      "Epoch 26/45\n",
      "73/73 [==============================] - 8s 108ms/step - loss: 0.0148\n",
      "Epoch 27/45\n",
      "73/73 [==============================] - 8s 108ms/step - loss: 0.0111\n",
      "Epoch 28/45\n",
      "73/73 [==============================] - 8s 108ms/step - loss: 0.0087\n",
      "Epoch 29/45\n",
      "73/73 [==============================] - 8s 108ms/step - loss: 0.0068\n",
      "Epoch 30/45\n",
      "73/73 [==============================] - 8s 108ms/step - loss: 0.0057\n",
      "Epoch 31/45\n",
      "73/73 [==============================] - 8s 108ms/step - loss: 0.0049\n",
      "Epoch 32/45\n",
      "73/73 [==============================] - 8s 109ms/step - loss: 0.0038\n",
      "Epoch 33/45\n",
      "73/73 [==============================] - 8s 108ms/step - loss: 0.0033\n",
      "Epoch 34/45\n",
      "73/73 [==============================] - 8s 109ms/step - loss: 0.0037\n",
      "Epoch 35/45\n",
      "73/73 [==============================] - 8s 108ms/step - loss: 0.0029\n",
      "Epoch 36/45\n",
      "73/73 [==============================] - 8s 109ms/step - loss: 0.0025\n",
      "Epoch 37/45\n",
      "73/73 [==============================] - 8s 108ms/step - loss: 0.0026\n",
      "Epoch 38/45\n",
      "73/73 [==============================] - 8s 108ms/step - loss: 0.0076\n",
      "Epoch 39/45\n",
      "73/73 [==============================] - 8s 108ms/step - loss: 0.0468\n",
      "Epoch 40/45\n",
      "73/73 [==============================] - 8s 108ms/step - loss: 0.0247\n",
      "Epoch 41/45\n",
      "73/73 [==============================] - 8s 108ms/step - loss: 0.0120\n",
      "Epoch 42/45\n",
      "73/73 [==============================] - 8s 108ms/step - loss: 0.0069\n",
      "Epoch 43/45\n",
      "73/73 [==============================] - 8s 108ms/step - loss: 0.0035\n",
      "Epoch 44/45\n",
      "73/73 [==============================] - 8s 108ms/step - loss: 0.0017\n",
      "Epoch 45/45\n",
      "73/73 [==============================] - 8s 108ms/step - loss: 0.0013\n"
     ]
    }
   ],
   "source": [
    "# model train given the data generator, how many batches and number of epochs\n",
    "history = model.fit_generator(gen, steps_per_epoch=n_batches, epochs = 45)"
   ]
  },
  {
   "cell_type": "code",
   "execution_count": 9,
   "metadata": {},
   "outputs": [],
   "source": [
    "tfeat_map, troot2feat, troot2word = read('data/heb/hebrew-task1-test', featMap)\n",
    "troots_mat, tdecoder_words_mat, tfeats_vec, tout_words_mat = get_data(troot2word, troot2feat, char2int, max_root, max_word, feat_length)\n",
    "test_gen = gen_data(troots_mat, tdecoder_words_mat, tfeats_vec, tout_words_mat)"
   ]
  },
  {
   "cell_type": "code",
   "execution_count": 10,
   "metadata": {},
   "outputs": [],
   "source": [
    "def predict(encoder, decoder, root_word, word_feat, max_step, output_dim, char2int):\n",
    "    # encode\n",
    "    state = encoder.predict([root_word, word_feat])\n",
    "    # start of sequence input\n",
    "    start = [0.0 for _ in range(output_dim)]\n",
    "    start[char2int['&']] = 1\n",
    "    target_seq = np.array(start).reshape(1, 1, output_dim)\n",
    "    # collect predictions\n",
    "    output = list()\n",
    "    for t in range(max_step):\n",
    "        # predict next char\n",
    "        yhat, h= decoder.predict([target_seq, state])\n",
    "        # store prediction\n",
    "        output.append(yhat[0,0,:])\n",
    "        # update state\n",
    "        state = h\n",
    "        # update target sequence\n",
    "        target_seq = yhat\n",
    "    return np.array(output)"
   ]
  },
  {
   "cell_type": "code",
   "execution_count": 11,
   "metadata": {},
   "outputs": [],
   "source": [
    "test_n_batches = 30 #len(root2feat) // batch_size"
   ]
  },
  {
   "cell_type": "code",
   "execution_count": 12,
   "metadata": {},
   "outputs": [
    {
     "name": "stdout",
     "output_type": "stream",
     "text": [
      "Exact Accuracy: 0.00%\n"
     ]
    }
   ],
   "source": [
    "# shows sample examples and calculates accuracy\n",
    "\n",
    "total, correct = 0, 0\n",
    "in_word = 0\n",
    "sims = []\n",
    "for b in range(test_n_batches):\n",
    "    # get data from test data generator\n",
    "    [roots, feats, words], y = next(test_gen)\n",
    "    for j in range(batch_size):\n",
    "        word_features = feats[j].reshape((1, feats.shape[1])) \n",
    "        root_word_matrix = roots[j].reshape((1, roots.shape[1], roots.shape[2], 1))\n",
    "        \n",
    "        # predicts the target word given root word and features\n",
    "        target = predict(encoder, decoder, root_word_matrix, word_features, max_word, decoder_input, char2int)\n",
    "        root = ''.join(one_hot_decode(roots[j], int2char))#.replace('&', ' ')\n",
    "        word = ''.join(one_hot_decode(y[j], int2char))#.replace('&', ' ')\n",
    "        targetS = ''.join(one_hot_decode(target, int2char))#.replace('&', ' ')\n",
    "#         sims.append(dg.word_sim(word, targetS))\n",
    "        target =  target[:-1]\n",
    "        # checks if the predicted and the real words are equal\n",
    "        if one_hot_decode(y[j], int2char) == one_hot_decode(target, int2char):\n",
    "            correct += 1\n",
    "#         else:\n",
    "#             print(root, word.split('&')[0], '\\t\\t', targetS.split('&')[0])\n",
    "#         if root.strip() in targetS.strip():\n",
    "#             in_word += 1\n",
    "#     print(b, root, word, targetS)\n",
    "    total += batch_size\n",
    "    \n",
    "\n",
    "print('Exact Accuracy: %.2f%%' % (float(correct)/float(total)*100.0))"
   ]
  },
  {
   "cell_type": "code",
   "execution_count": null,
   "metadata": {},
   "outputs": [],
   "source": []
  }
 ],
 "metadata": {
  "kernelspec": {
   "display_name": "Python 3",
   "language": "python",
   "name": "python3"
  },
  "language_info": {
   "codemirror_mode": {
    "name": "ipython",
    "version": 3
   },
   "file_extension": ".py",
   "mimetype": "text/x-python",
   "name": "python",
   "nbconvert_exporter": "python",
   "pygments_lexer": "ipython3",
   "version": "3.6.8"
  }
 },
 "nbformat": 4,
 "nbformat_minor": 2
}

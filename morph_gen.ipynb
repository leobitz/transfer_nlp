{
 "cells": [
  {
   "cell_type": "code",
   "execution_count": 1,
   "metadata": {},
   "outputs": [],
   "source": [
    "# from data_gen import *\n",
    "from models import *\n",
    "from heb_proc import *"
   ]
  },
  {
   "cell_type": "code",
   "execution_count": 2,
   "metadata": {},
   "outputs": [
    {
     "name": "stdout",
     "output_type": "stream",
     "text": [
      "19 21 34\n",
      "Root shape:  (11447, 21, 36)\n",
      "Decoder input shape:  (11447, 21, 36)\n",
      "Feature shape:  (11447, 34)\n",
      "Output shape:  (11447, 21, 36)\n"
     ]
    }
   ],
   "source": [
    "\n",
    "featMap, root2feat, root2word = read(file='data/sig/georgian-train.txt')\n",
    "char2int, int2char, max_root, max_word, feat_length = stat(root2feat, root2word, featMap)\n",
    "print(max_word, max_root, feat_length)\n",
    "roots_mat, decoder_words_mat, feats_vec, out_words_mat = get_data(root2word, root2feat, char2int, max_root, max_word, feat_length)\n",
    "batch_size = 100\n",
    "n_input_length = roots_mat.shape[1]\n",
    "n_output_shape = out_words_mat.shape[1]\n",
    "n_feature = feat_length\n",
    "n_batches = len(root2feat) // batch_size\n",
    "print(\"Root shape: \", roots_mat.shape)\n",
    "print(\"Decoder input shape: \", decoder_words_mat.shape)\n",
    "print(\"Feature shape: \", feats_vec.shape)\n",
    "print(\"Output shape: \", out_words_mat.shape)\n"
   ]
  },
  {
   "cell_type": "code",
   "execution_count": 3,
   "metadata": {},
   "outputs": [],
   "source": [
    "gen = gen_data(roots_mat, decoder_words_mat, feats_vec, out_words_mat)\n",
    "# (roots, decode, feat), words = next(gen)"
   ]
  },
  {
   "cell_type": "code",
   "execution_count": 4,
   "metadata": {},
   "outputs": [],
   "source": [
    "# words.shape"
   ]
  },
  {
   "cell_type": "code",
   "execution_count": 5,
   "metadata": {},
   "outputs": [],
   "source": [
    "# gen = gen_data(roots_mat, words_mat, feats_vec, batch_size=batch_size)"
   ]
  },
  {
   "cell_type": "code",
   "execution_count": 6,
   "metadata": {},
   "outputs": [],
   "source": [
    "root_h, root_w = roots_mat.shape[1], roots_mat.shape[2]\n",
    "decoder_input = decoder_words_mat.shape[2]\n",
    "decoder_output = out_words_mat.shape[1]\n",
    "feat_length = feats_vec.shape[1]\n",
    "model, encoder, decoder = conv_model(root_h, root_w, decoder_input, decoder_output, feat_length, 256, feat_units=15)\n",
    "model.compile(optimizer='adam', loss='categorical_crossentropy')\n"
   ]
  },
  {
   "cell_type": "code",
   "execution_count": 7,
   "metadata": {},
   "outputs": [],
   "source": [
    "# model.summary()"
   ]
  },
  {
   "cell_type": "code",
   "execution_count": 8,
   "metadata": {},
   "outputs": [
    {
     "name": "stdout",
     "output_type": "stream",
     "text": [
      "Epoch 1/42\n",
      "114/114 [==============================] - 9s 76ms/step - loss: 1.5020\n",
      "Epoch 2/42\n",
      "114/114 [==============================] - 6s 50ms/step - loss: 0.9061\n",
      "Epoch 3/42\n",
      "114/114 [==============================] - 6s 50ms/step - loss: 0.6166\n",
      "Epoch 4/42\n",
      "114/114 [==============================] - 6s 50ms/step - loss: 0.4300\n",
      "Epoch 5/42\n",
      "114/114 [==============================] - 6s 50ms/step - loss: 0.3097\n",
      "Epoch 6/42\n",
      "114/114 [==============================] - 6s 50ms/step - loss: 0.2304\n",
      "Epoch 7/42\n",
      "114/114 [==============================] - 6s 50ms/step - loss: 0.1812\n",
      "Epoch 8/42\n",
      "114/114 [==============================] - 6s 50ms/step - loss: 0.1441\n",
      "Epoch 9/42\n",
      "114/114 [==============================] - 6s 51ms/step - loss: 0.1172\n",
      "Epoch 10/42\n",
      "114/114 [==============================] - 6s 50ms/step - loss: 0.0971\n",
      "Epoch 11/42\n",
      "114/114 [==============================] - 6s 51ms/step - loss: 0.0835\n",
      "Epoch 12/42\n",
      "114/114 [==============================] - 6s 51ms/step - loss: 0.0743\n",
      "Epoch 13/42\n",
      "114/114 [==============================] - 6s 50ms/step - loss: 0.0626\n",
      "Epoch 14/42\n",
      "114/114 [==============================] - 6s 51ms/step - loss: 0.0540\n",
      "Epoch 15/42\n",
      "114/114 [==============================] - 6s 50ms/step - loss: 0.0471\n",
      "Epoch 16/42\n",
      "114/114 [==============================] - 6s 50ms/step - loss: 0.0424\n",
      "Epoch 17/42\n",
      "114/114 [==============================] - 6s 50ms/step - loss: 0.0375\n",
      "Epoch 18/42\n",
      "114/114 [==============================] - 6s 50ms/step - loss: 0.0327\n",
      "Epoch 19/42\n",
      "114/114 [==============================] - 6s 50ms/step - loss: 0.0301\n",
      "Epoch 20/42\n",
      "114/114 [==============================] - 6s 51ms/step - loss: 0.0256\n",
      "Epoch 21/42\n",
      "114/114 [==============================] - 6s 50ms/step - loss: 0.0224\n",
      "Epoch 22/42\n",
      "114/114 [==============================] - 6s 50ms/step - loss: 0.0200\n",
      "Epoch 23/42\n",
      "114/114 [==============================] - 6s 50ms/step - loss: 0.0172\n",
      "Epoch 24/42\n",
      "114/114 [==============================] - 6s 50ms/step - loss: 0.0163\n",
      "Epoch 25/42\n",
      "114/114 [==============================] - 6s 50ms/step - loss: 0.0128\n",
      "Epoch 26/42\n",
      "114/114 [==============================] - 6s 50ms/step - loss: 0.0106\n",
      "Epoch 27/42\n",
      "114/114 [==============================] - 6s 50ms/step - loss: 0.0097\n",
      "Epoch 28/42\n",
      "114/114 [==============================] - 6s 50ms/step - loss: 0.0105\n",
      "Epoch 29/42\n",
      "114/114 [==============================] - 6s 50ms/step - loss: 0.0127\n",
      "Epoch 30/42\n",
      "114/114 [==============================] - 6s 50ms/step - loss: 0.0184\n",
      "Epoch 31/42\n",
      "114/114 [==============================] - 6s 50ms/step - loss: 0.0069\n",
      "Epoch 32/42\n",
      "114/114 [==============================] - 6s 50ms/step - loss: 0.0051\n",
      "Epoch 33/42\n",
      "114/114 [==============================] - 6s 51ms/step - loss: 0.0050\n",
      "Epoch 34/42\n",
      "114/114 [==============================] - 6s 50ms/step - loss: 0.0041\n",
      "Epoch 35/42\n",
      "114/114 [==============================] - 6s 50ms/step - loss: 0.0042\n",
      "Epoch 36/42\n",
      "114/114 [==============================] - 6s 50ms/step - loss: 0.0041\n",
      "Epoch 37/42\n",
      "114/114 [==============================] - 6s 50ms/step - loss: 0.0079\n",
      "Epoch 38/42\n",
      "114/114 [==============================] - 6s 51ms/step - loss: 0.0123\n",
      "Epoch 39/42\n",
      "114/114 [==============================] - 6s 51ms/step - loss: 0.0068\n",
      "Epoch 40/42\n",
      "114/114 [==============================] - 6s 51ms/step - loss: 0.0029\n",
      "Epoch 41/42\n",
      "114/114 [==============================] - 6s 50ms/step - loss: 0.0015\n",
      "Epoch 42/42\n",
      "114/114 [==============================] - 6s 51ms/step - loss: 9.8551e-04\n"
     ]
    }
   ],
   "source": [
    "# model train given the data generator, how many batches and number of epochs\n",
    "history = model.fit_generator(gen, steps_per_epoch=n_batches, epochs = 42)"
   ]
  },
  {
   "cell_type": "code",
   "execution_count": 9,
   "metadata": {},
   "outputs": [],
   "source": [
    "tfeat_map, troot2feat, troot2word = read('data/sig/georgian-test.txt', featMap)\n",
    "troots_mat, tdecoder_words_mat, tfeats_vec, tout_words_mat = get_data(troot2word, troot2feat, char2int, max_root, max_word, feat_length)\n",
    "test_gen = gen_data(troots_mat, tdecoder_words_mat, tfeats_vec, tout_words_mat)"
   ]
  },
  {
   "cell_type": "code",
   "execution_count": 10,
   "metadata": {},
   "outputs": [],
   "source": [
    "def predict(encoder, decoder, root_word, word_feat, max_step, output_dim, char2int):\n",
    "    # encode\n",
    "    state = encoder.predict([root_word, word_feat])\n",
    "    # start of sequence input\n",
    "    start = [0.0 for _ in range(output_dim)]\n",
    "    start[char2int['&']] = 1\n",
    "    target_seq = np.array(start).reshape(1, 1, output_dim)\n",
    "    # collect predictions\n",
    "    output = list()\n",
    "    for t in range(max_step):\n",
    "        # predict next char\n",
    "        yhat, h= decoder.predict([target_seq, state])\n",
    "        # store prediction\n",
    "        output.append(yhat[0,0,:])\n",
    "        # update state\n",
    "        state = h\n",
    "        # update target sequence\n",
    "        target_seq = yhat\n",
    "    return np.array(output)"
   ]
  },
  {
   "cell_type": "code",
   "execution_count": 11,
   "metadata": {},
   "outputs": [],
   "source": [
    "test_n_batches = 10#len(troot2feat) // batch_size"
   ]
  },
  {
   "cell_type": "code",
   "execution_count": 12,
   "metadata": {},
   "outputs": [],
   "source": [
    "# \"ll\" is \"l\""
   ]
  },
  {
   "cell_type": "code",
   "execution_count": 13,
   "metadata": {},
   "outputs": [
    {
     "name": "stdout",
     "output_type": "stream",
     "text": [
      "Exact Accuracy: 86.00%\n"
     ]
    }
   ],
   "source": [
    "# shows sample examples and calculates accuracy\n",
    "\n",
    "total, correct = 0, 0\n",
    "in_word = 0\n",
    "sims = []\n",
    "for b in range(test_n_batches):\n",
    "    # get data from test data generator\n",
    "    [roots, feats, words], y = next(test_gen)\n",
    "    for j in range(batch_size):\n",
    "        word_features = feats[j].reshape((1, feats.shape[1])) \n",
    "        root_word_matrix = roots[j].reshape((1, roots.shape[1], roots.shape[2], 1))\n",
    "        \n",
    "        # predicts the target word given root word and features\n",
    "        target = predict(encoder, decoder, root_word_matrix, word_features, max_word, decoder_input, char2int)\n",
    "        root = ''.join(one_hot_decode(roots[j], int2char)).replace('&', ' ').strip()\n",
    "        word = ''.join(one_hot_decode(y[j], int2char)).replace('&', ' ').strip()\n",
    "        targetS = ''.join(one_hot_decode(target, int2char)).replace('&', ' ').strip()\n",
    "#         print(word, len(word), targetS, len(targetS))\n",
    "#         sims.append(dg.word_sim(word, targetS))\n",
    "        target =  target[:-1]\n",
    "        # checks if the predicted and the real words are equal\n",
    "        \n",
    "        if word == targetS:\n",
    "            correct += 1\n",
    "#         else:\n",
    "#             print(root, word.split('&')[0], '\\t\\t', targetS.split('&')[0])\n",
    "#         if root.strip() in targetS.strip():\n",
    "#             in_word += 1\n",
    "#     print(b, root, word, targetS)\n",
    "    total += batch_size\n",
    "    \n",
    "\n",
    "print('Exact Accuracy: %.2f%%' % (float(correct)/float(total)*100.0))"
   ]
  },
  {
   "cell_type": "code",
   "execution_count": null,
   "metadata": {},
   "outputs": [],
   "source": []
  }
 ],
 "metadata": {
  "kernelspec": {
   "display_name": "Python 3",
   "language": "python",
   "name": "python3"
  },
  "language_info": {
   "codemirror_mode": {
    "name": "ipython",
    "version": 3
   },
   "file_extension": ".py",
   "mimetype": "text/x-python",
   "name": "python",
   "nbconvert_exporter": "python",
   "pygments_lexer": "ipython3",
   "version": "3.6.8"
  }
 },
 "nbformat": 4,
 "nbformat_minor": 2
}

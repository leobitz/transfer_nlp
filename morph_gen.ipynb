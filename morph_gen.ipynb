{
 "cells": [
  {
   "cell_type": "code",
   "execution_count": 1,
   "metadata": {},
   "outputs": [],
   "source": [
    "# from data_gen import *\n",
    "from models import *\n",
    "from heb_proc import *"
   ]
  },
  {
   "cell_type": "code",
   "execution_count": 2,
   "metadata": {},
   "outputs": [],
   "source": [
    "name = \"turkish\"\n",
    "epochs = 54"
   ]
  },
  {
   "cell_type": "code",
   "execution_count": 3,
   "metadata": {},
   "outputs": [
    {
     "name": "stdout",
     "output_type": "stream",
     "text": [
      "26 24 41\n",
      "Root shape:  (12029, 24, 34)\n",
      "Decoder input shape:  (12029, 28, 34)\n",
      "Feature shape:  (12029, 41)\n",
      "Output shape:  (12029, 28, 34)\n"
     ]
    }
   ],
   "source": [
    "\n",
    "featMap, root2feat, root2word = read(file='data/sig/{0}-train.txt'.format(name))\n",
    "char2int, int2char, max_root, max_word, feat_length = stat(root2feat, root2word, featMap)\n",
    "print(max_word, max_root, feat_length)\n",
    "roots_mat, decoder_words_mat, feats_vec, out_words_mat = get_data(root2word, root2feat, char2int, max_root, max_word, feat_length)\n",
    "batch_size = 64\n",
    "n_input_length = roots_mat.shape[1]\n",
    "n_output_shape = out_words_mat.shape[1]\n",
    "n_feature = feat_length\n",
    "n_batches = len(root2feat) // batch_size\n",
    "print(\"Root shape: \", roots_mat.shape)\n",
    "print(\"Decoder input shape: \", decoder_words_mat.shape)\n",
    "print(\"Feature shape: \", feats_vec.shape)\n",
    "print(\"Output shape: \", out_words_mat.shape)\n"
   ]
  },
  {
   "cell_type": "code",
   "execution_count": 4,
   "metadata": {},
   "outputs": [],
   "source": [
    "gen = gen_data(roots_mat, decoder_words_mat, feats_vec, out_words_mat)\n",
    "# (roots, decode, feat), words = next(gen)"
   ]
  },
  {
   "cell_type": "code",
   "execution_count": 5,
   "metadata": {},
   "outputs": [],
   "source": [
    "# words.shape"
   ]
  },
  {
   "cell_type": "code",
   "execution_count": 6,
   "metadata": {},
   "outputs": [],
   "source": [
    "# gen = gen_data(roots_mat, words_mat, feats_vec, batch_size=batch_size)"
   ]
  },
  {
   "cell_type": "code",
   "execution_count": 7,
   "metadata": {},
   "outputs": [],
   "source": [
    "root_h, root_w = roots_mat.shape[1], roots_mat.shape[2]\n",
    "decoder_input = decoder_words_mat.shape[2]\n",
    "decoder_output = out_words_mat.shape[1]\n",
    "feat_length = feats_vec.shape[1]\n",
    "model, encoder, decoder = conv_model(root_h, root_w, decoder_input, decoder_output, feat_length, 256, feat_units=15)\n",
    "model.compile(optimizer='adam', loss='categorical_crossentropy')\n"
   ]
  },
  {
   "cell_type": "code",
   "execution_count": 8,
   "metadata": {},
   "outputs": [],
   "source": [
    "# model.summary()\n",
    "# arabic 50"
   ]
  },
  {
   "cell_type": "code",
   "execution_count": 9,
   "metadata": {},
   "outputs": [
    {
     "name": "stdout",
     "output_type": "stream",
     "text": [
      "Epoch 1/54\n",
      "187/187 [==============================] - 10s 55ms/step - loss: 1.2003\n",
      "Epoch 2/54\n",
      "187/187 [==============================] - 9s 46ms/step - loss: 0.5131\n",
      "Epoch 3/54\n",
      "187/187 [==============================] - 9s 45ms/step - loss: 0.2892\n",
      "Epoch 4/54\n",
      "187/187 [==============================] - 8s 43ms/step - loss: 0.1830\n",
      "Epoch 5/54\n",
      "187/187 [==============================] - 8s 42ms/step - loss: 0.1268\n",
      "Epoch 6/54\n",
      "187/187 [==============================] - 8s 42ms/step - loss: 0.0947\n",
      "Epoch 7/54\n",
      "187/187 [==============================] - 8s 42ms/step - loss: 0.0707\n",
      "Epoch 8/54\n",
      "187/187 [==============================] - 8s 42ms/step - loss: 0.0547\n",
      "Epoch 9/54\n",
      "187/187 [==============================] - 8s 42ms/step - loss: 0.0447\n",
      "Epoch 10/54\n",
      "187/187 [==============================] - 8s 41ms/step - loss: 0.0324\n",
      "Epoch 11/54\n",
      "187/187 [==============================] - 8s 42ms/step - loss: 0.0267\n",
      "Epoch 12/54\n",
      "187/187 [==============================] - 8s 41ms/step - loss: 0.0217\n",
      "Epoch 13/54\n",
      "187/187 [==============================] - 8s 44ms/step - loss: 0.0169\n",
      "Epoch 14/54\n",
      "187/187 [==============================] - 8s 41ms/step - loss: 0.0155\n",
      "Epoch 15/54\n",
      "187/187 [==============================] - 8s 41ms/step - loss: 0.0136\n",
      "Epoch 16/54\n",
      "187/187 [==============================] - 8s 42ms/step - loss: 0.0072\n",
      "Epoch 17/54\n",
      "187/187 [==============================] - 8s 41ms/step - loss: 0.0051\n",
      "Epoch 18/54\n",
      "187/187 [==============================] - 8s 42ms/step - loss: 0.0039\n",
      "Epoch 19/54\n",
      "187/187 [==============================] - 8s 41ms/step - loss: 0.0034\n",
      "Epoch 20/54\n",
      "187/187 [==============================] - 8s 42ms/step - loss: 0.0024\n",
      "Epoch 21/54\n",
      "187/187 [==============================] - 8s 42ms/step - loss: 0.0135\n",
      "Epoch 22/54\n",
      "187/187 [==============================] - 8s 45ms/step - loss: 0.0167\n",
      "Epoch 23/54\n",
      "187/187 [==============================] - 8s 44ms/step - loss: 0.0039\n",
      "Epoch 24/54\n",
      "187/187 [==============================] - 8s 42ms/step - loss: 0.0016\n",
      "Epoch 25/54\n",
      "187/187 [==============================] - 8s 42ms/step - loss: 0.0010\n",
      "Epoch 26/54\n",
      "187/187 [==============================] - 8s 41ms/step - loss: 7.2628e-04\n",
      "Epoch 27/54\n",
      "187/187 [==============================] - 8s 41ms/step - loss: 6.5132e-04\n",
      "Epoch 28/54\n",
      "187/187 [==============================] - 8s 42ms/step - loss: 5.8476e-04\n",
      "Epoch 29/54\n",
      "187/187 [==============================] - 8s 41ms/step - loss: 4.4817e-04\n",
      "Epoch 30/54\n",
      "187/187 [==============================] - 8s 42ms/step - loss: 3.5948e-04\n",
      "Epoch 31/54\n",
      "187/187 [==============================] - 8s 42ms/step - loss: 3.1566e-04\n",
      "Epoch 32/54\n",
      "187/187 [==============================] - 8s 41ms/step - loss: 2.7446e-04\n",
      "Epoch 33/54\n",
      "187/187 [==============================] - 8s 41ms/step - loss: 2.3979e-04\n",
      "Epoch 34/54\n",
      "187/187 [==============================] - 8s 42ms/step - loss: 2.1486e-04\n",
      "Epoch 35/54\n",
      "187/187 [==============================] - 8s 42ms/step - loss: 1.8812e-04\n",
      "Epoch 36/54\n",
      "187/187 [==============================] - 8s 41ms/step - loss: 1.6965e-04\n",
      "Epoch 37/54\n",
      "187/187 [==============================] - 8s 41ms/step - loss: 1.4954e-04\n",
      "Epoch 38/54\n",
      "187/187 [==============================] - 8s 41ms/step - loss: 1.3313e-04\n",
      "Epoch 39/54\n",
      "187/187 [==============================] - 8s 42ms/step - loss: 1.1839e-04\n",
      "Epoch 40/54\n",
      "187/187 [==============================] - 8s 41ms/step - loss: 1.0717e-04\n",
      "Epoch 41/54\n",
      "187/187 [==============================] - 8s 42ms/step - loss: 9.5019e-05\n",
      "Epoch 42/54\n",
      "187/187 [==============================] - 8s 40ms/step - loss: 0.0797\n",
      "Epoch 43/54\n",
      "187/187 [==============================] - 7s 39ms/step - loss: 0.1142\n",
      "Epoch 44/54\n",
      "187/187 [==============================] - 7s 39ms/step - loss: 0.0242\n",
      "Epoch 45/54\n",
      "187/187 [==============================] - 7s 39ms/step - loss: 0.0138\n",
      "Epoch 46/54\n",
      "187/187 [==============================] - 8s 41ms/step - loss: 0.0073\n",
      "Epoch 47/54\n",
      "187/187 [==============================] - 7s 39ms/step - loss: 0.0047\n",
      "Epoch 48/54\n",
      "187/187 [==============================] - 7s 38ms/step - loss: 0.0030\n",
      "Epoch 49/54\n",
      "187/187 [==============================] - 7s 36ms/step - loss: 0.0021\n",
      "Epoch 50/54\n",
      "187/187 [==============================] - 7s 36ms/step - loss: 0.0016\n",
      "Epoch 51/54\n",
      "187/187 [==============================] - 7s 36ms/step - loss: 0.0012\n",
      "Epoch 52/54\n",
      "187/187 [==============================] - 7s 36ms/step - loss: 0.0010\n",
      "Epoch 53/54\n",
      "187/187 [==============================] - 7s 36ms/step - loss: 8.4038e-04\n",
      "Epoch 54/54\n",
      "187/187 [==============================] - 7s 36ms/step - loss: 7.2265e-04\n"
     ]
    }
   ],
   "source": [
    "# model train given the data generator, how many batches and number of epochs\n",
    "history = model.fit_generator(gen, steps_per_epoch=n_batches, epochs = epochs)"
   ]
  },
  {
   "cell_type": "code",
   "execution_count": 10,
   "metadata": {},
   "outputs": [],
   "source": [
    "tfeat_map, troot2feat, troot2word = read('data/sig/{0}-train.txt'.format(name), featMap)\n",
    "troots_mat, tdecoder_words_mat, tfeats_vec, tout_words_mat = get_data(troot2word, troot2feat, char2int, max_root, max_word, feat_length)\n",
    "test_gen = gen_data(troots_mat, tdecoder_words_mat, tfeats_vec, tout_words_mat)"
   ]
  },
  {
   "cell_type": "code",
   "execution_count": 11,
   "metadata": {},
   "outputs": [],
   "source": [
    "def predict(encoder, decoder, root_word, word_feat, max_step, output_dim, char2int):\n",
    "    # encode\n",
    "    state = encoder.predict([root_word, word_feat])\n",
    "    # start of sequence input\n",
    "    start = [0.0 for _ in range(output_dim)]\n",
    "    start[char2int['&']] = 1\n",
    "    target_seq = np.array(start).reshape(1, 1, output_dim)\n",
    "    # collect predictions\n",
    "    output = list()\n",
    "    for t in range(max_step):\n",
    "        # predict next char\n",
    "        yhat, h= decoder.predict([target_seq, state])\n",
    "        # store prediction\n",
    "        output.append(yhat[0,0,:])\n",
    "        # update state\n",
    "        state = h\n",
    "        # update target sequence\n",
    "        target_seq = yhat\n",
    "    return np.array(output)"
   ]
  },
  {
   "cell_type": "code",
   "execution_count": 12,
   "metadata": {},
   "outputs": [],
   "source": [
    "test_n_batches = len(troot2feat) // batch_size"
   ]
  },
  {
   "cell_type": "code",
   "execution_count": 13,
   "metadata": {},
   "outputs": [],
   "source": [
    "# \"ll\" is \"l\""
   ]
  },
  {
   "cell_type": "code",
   "execution_count": 14,
   "metadata": {},
   "outputs": [
    {
     "name": "stdout",
     "output_type": "stream",
     "text": [
      "Exact Accuracy: 99.99%\n"
     ]
    }
   ],
   "source": [
    "# shows sample examples and calculates accuracy\n",
    "\n",
    "total, correct = 0, 0\n",
    "in_word = 0\n",
    "sims = []\n",
    "for b in range(test_n_batches):\n",
    "    # get data from test data generator\n",
    "    [roots, feats, words], y = next(test_gen)\n",
    "    for j in range(batch_size):\n",
    "        word_features = feats[j].reshape((1, feats.shape[1])) \n",
    "        root_word_matrix = roots[j].reshape((1, roots.shape[1], roots.shape[2], 1))\n",
    "        \n",
    "        # predicts the target word given root word and features\n",
    "        target = predict(encoder, decoder, root_word_matrix, word_features, max_word, decoder_input, char2int)\n",
    "        root = ''.join(one_hot_decode(roots[j], int2char)).replace('&', ' ').strip()\n",
    "        word = ''.join(one_hot_decode(y[j], int2char)).replace('&', ' ').strip()\n",
    "        targetS = ''.join(one_hot_decode(target, int2char)).replace('&', ' ').strip()\n",
    "#         print(word, len(word), targetS, len(targetS))\n",
    "#         sims.append(dg.word_sim(word, targetS))\n",
    "        target =  target[:-1]\n",
    "        # checks if the predicted and the real words are equal\n",
    "        \n",
    "        if word == targetS:\n",
    "            correct += 1\n",
    "#         else:\n",
    "#             print(root, word.split('&')[0], '\\t\\t', targetS.split('&')[0])\n",
    "#         if root.strip() in targetS.strip():\n",
    "#             in_word += 1\n",
    "#     print(b, root, word, targetS)\n",
    "    total += batch_size\n",
    "    \n",
    "\n",
    "print('Exact Accuracy: %.2f%%' % (float(correct)/float(total)*100.0))"
   ]
  },
  {
   "cell_type": "code",
   "execution_count": 15,
   "metadata": {},
   "outputs": [],
   "source": [
    "#arabic 50 99.94\n",
    "#finnish 50 96.09\n",
    "#georgian 54 99.99\n",
    "#german 54 99.99%\n",
    "# hungary 30 99.97\n",
    "# navajo 99.97%\n",
    "# russian 100%\n",
    "# spanish 99.98%\n",
    "# turkish 99.98%\n"
   ]
  }
 ],
 "metadata": {
  "kernelspec": {
   "display_name": "Python 3",
   "language": "python",
   "name": "python3"
  },
  "language_info": {
   "codemirror_mode": {
    "name": "ipython",
    "version": 3
   },
   "file_extension": ".py",
   "mimetype": "text/x-python",
   "name": "python",
   "nbconvert_exporter": "python",
   "pygments_lexer": "ipython3",
   "version": "3.6.8"
  }
 },
 "nbformat": 4,
 "nbformat_minor": 2
}
